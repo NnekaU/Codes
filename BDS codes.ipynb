{
 "cells": [
  {
   "cell_type": "code",
   "execution_count": 1,
   "metadata": {
    "collapsed": true
   },
   "outputs": [],
   "source": [
    "import numpy as np\n",
    "from scipy.stats import norm,ncx2\n",
    "from mpl_toolkits import mplot3d\n",
    "from pylab import plot, title,xlim,ylim, xlabel, ylabel, show\n",
    "import matplotlib.pyplot as plt\n",
    "%matplotlib inline"
   ]
  },
  {
   "cell_type": "markdown",
   "metadata": {},
   "source": [
    "# Fig 1: PDF of Vasicek and CIR model vs the parameters alpha; beta & sigma."
   ]
  },
  {
   "cell_type": "code",
   "execution_count": 2,
   "metadata": {},
   "outputs": [
    {
     "name": "stderr",
     "output_type": "stream",
     "text": [
      "C:\\ProgramData\\Anaconda3\\anaconda\\lib\\site-packages\\scipy\\stats\\_distn_infrastructure.py:574: RuntimeWarning: divide by zero encountered in log\n",
      "  res += np.log(ive(df2, xs*ns) / 2.0)\n"
     ]
    }
   ],
   "source": [
    "##### CIR #####\n",
    "\n",
    "def CIR_pdf(x1, lam0, alpha, beta, sigma, dt):\n",
    "    #dt=T-t. Here, t=0\n",
    "    q = (2*alpha*beta)/(sigma**2) - 1\n",
    "    c = (2*alpha)/(sigma**2*(1-np.exp(-alpha*dt)))\n",
    "    u = c*lam0*np.exp(-alpha*dt)\n",
    "    chi = 2*c*ncx2.pdf(2*c*x1, 2*q+2, 2*u)\n",
    "    return chi\n",
    "\n",
    "x1= np.linspace(0,0.2,500)\n",
    "\n",
    "##### PDF vs alpha #####\n",
    "y1=np.array(list(map(lambda alpha: CIR_pdf(x1,0.1,alpha,0.07,0.1,2), [0.1])))\n",
    "y11=y1.reshape((-1,1))\n",
    "y2=np.array(list(map(lambda alpha: CIR_pdf(x1,0.1,alpha,0.07,0.1,2), [0.2])))\n",
    "y22=y2.reshape((-1,1))\n",
    "y3=np.array(list(map(lambda alpha: CIR_pdf(x1,0.1,alpha,0.07,0.1,2), [0.3])))\n",
    "y33=y3.reshape((-1,1))\n",
    "y4=np.array(list(map(lambda alpha: CIR_pdf(x1,0.1,alpha,0.07,0.1,2), [2])))\n",
    "y44=y4.reshape((-1,1))\n",
    "\n",
    "##### PDF vs beta #####\n",
    "f1=np.array(list(map(lambda beta: CIR_pdf(x1,0.1,0.3,beta,0.1,2), [0.05])))\n",
    "f11=f1.reshape((-1,1))\n",
    "f2=np.array(list(map(lambda beta: CIR_pdf(x1,0.1,0.3,beta,0.1,2), [0.07])))\n",
    "f22=f2.reshape((-1,1))\n",
    "f3=np.array(list(map(lambda beta: CIR_pdf(x1,0.1,0.3,beta,0.1,2), [0.09])))\n",
    "f33=f3.reshape((-1,1))\n",
    "f4=np.array(list(map(lambda beta: CIR_pdf(x1,0.1,0.3,beta,0.1,2), [0.13])))\n",
    "f44=f4.reshape((-1,1))\n",
    "\n",
    "##### PDF vs sigma #####\n",
    "g1=np.array(list(map(lambda sigma: CIR_pdf(x1,0.1,0.3,0.07,sigma,2), [0.05])))\n",
    "g11=g1.reshape((-1,1))\n",
    "g2=np.array(list(map(lambda sigma: CIR_pdf(x1,0.1,0.3,0.07,sigma,2), [0.07])))\n",
    "g22=g2.reshape((-1,1))\n",
    "g3=np.array(list(map(lambda sigma: CIR_pdf(x1,0.1,0.3,0.07,sigma,2), [0.09])))\n",
    "g33=g3.reshape((-1,1))\n",
    "g4=np.array(list(map(lambda sigma: CIR_pdf(x1,0.1,0.3,0.07,sigma,2), [0.11])))\n",
    "g44=g4.reshape((-1,1))\n",
    "\n",
    "\n",
    "##### Vasicek #####\n",
    "\n",
    "def Vasicek_pdf(x2, lam0, alpha, beta, sigma, dt):\n",
    "    mean = lam0*np.exp(-alpha*dt)+beta*(1-np.exp(-alpha*dt))\n",
    "    standard_deviation = sigma**2/(2*alpha)*(1-np.exp(-2*alpha*dt))\n",
    "    density= norm.pdf(x2, mean, standard_deviation)\n",
    "    return density\n",
    "\n",
    "x2= np.linspace(-0.1,0.15,500)\n",
    "\n",
    "##### PDF vs alpha #####\n",
    "m1=np.array(list(map(lambda alpha: Vasicek_pdf(x2,0.03,alpha,0.03,0.1,4), [0.1])))\n",
    "m11=y1.reshape((-1,1))\n",
    "m2=np.array(list(map(lambda alpha: Vasicek_pdf(x2,0.03,alpha,0.03,0.1,4), [0.15])))\n",
    "m22=y2.reshape((-1,1))\n",
    "m3=np.array(list(map(lambda alpha: Vasicek_pdf(x2,0.03,alpha,0.03,0.1,4), [0.2])))\n",
    "m33=y3.reshape((-1,1))\n",
    "m4=np.array(list(map(lambda alpha: Vasicek_pdf(x2,0.03,alpha,0.03,0.1,4), [0.25])))\n",
    "m44=y4.reshape((-1,1))\n",
    "\n",
    "##### PDF vs beta #####\n",
    "n1=np.array(list(map(lambda beta: Vasicek_pdf(x2,0.03,0.2,beta,0.1,4), [0.01])))\n",
    "n11=n1.reshape((-1,1))\n",
    "n2=np.array(list(map(lambda beta: Vasicek_pdf(x2,0.03,0.2,beta,0.1,4), [0.03])))\n",
    "n22=n2.reshape((-1,1))\n",
    "n3=np.array(list(map(lambda beta: Vasicek_pdf(x2,0.03,0.2,beta,0.1,4), [0.05])))\n",
    "n33=n3.reshape((-1,1))\n",
    "n4=np.array(list(map(lambda beta: Vasicek_pdf(x2,0.03,0.2,beta,0.1,4), [0.07])))\n",
    "n44=n4.reshape((-1,1))\n",
    "\n",
    "##### PDF vs sigma #####\n",
    "o1=np.array(list(map(lambda sigma: Vasicek_pdf(x2,0.03,0.2,0.03,sigma,4), [0.1])))\n",
    "o11=o1.reshape((-1,1))\n",
    "o2=np.array(list(map(lambda sigma: Vasicek_pdf(x2,0.03,0.2,0.03,sigma,4), [0.15])))\n",
    "o22=o2.reshape((-1,1))\n",
    "o3=np.array(list(map(lambda sigma: Vasicek_pdf(x2,0.03,0.2,0.03,sigma,4), [0.2])))\n",
    "o33=o3.reshape((-1,1))\n",
    "o4=np.array(list(map(lambda sigma: Vasicek_pdf(x2,0.03,0.2,0.03,sigma,4), [0.25])))\n",
    "o44=o4.reshape((-1,1))\n",
    "\n",
    "##### Plotting PDF of Vasicek vs alpha\n",
    "plt.plot(x2,m11,\"r--\",label=r\"$\\alpha=0.1$\")\n",
    "plt.plot(x2,m22,\"b--\",label=r\"$\\alpha=0.15$\")\n",
    "plt.plot(x2,m33,\"g--\",label=r\"$\\alpha=0.2$\")\n",
    "plt.plot(x2,m44,\"m--\",label=r\"$\\alpha=0.25$\")\n",
    "plt.legend(loc='best')\n",
    "plt.ylabel('Probability density function')\n",
    "plt.xlabel(r\"Speed of reversion $\\alpha$\")\n",
    "plt.show()\n",
    "\n",
    "\n"
   ]
  },
  {
   "cell_type": "markdown",
   "metadata": {},
   "source": [
    "# Fig 2: Joint survival probability distribution for homogenized portfolio"
   ]
  },
  {
   "cell_type": "code",
   "execution_count": 3,
   "metadata": {
    "collapsed": true
   },
   "outputs": [],
   "source": [
    "# Define Parameters\n",
    "a   =0.1   #Speed of reversion\n",
    "b   =0.03  #Long term mean\n",
    "sig =0.05  #Instanteneous volatility\n",
    "rho =0.5   #Correlation of the entities\n",
    "lam =0.05  #Hazard rate\n",
    "T   =10    #Time to expiration, intial time t_0=0\n",
    "\n",
    "t= np.arange(0,T+0.5,0.5)\n",
    "sigma = np.arange(0.01,sig+0.01,0.005)"
   ]
  },
  {
   "cell_type": "code",
   "execution_count": 5,
   "metadata": {},
   "outputs": [],
   "source": [
    "##### 2a: Vasicek #####\n",
    "\n",
    "BV = (1-np.exp(-a*t))*lam/float(a) + b*(t-1/float(a)*(1-np.exp(-a*t)))\n",
    "CV = (rho/float(2*a*a*a))*(2*a*t - 3 + 4*np.exp(-a*t)-np.exp(-2*a*t))\n",
    "\n",
    "def Prob_V(t, sigma):\n",
    "    return np.exp(-BV + 0.5*sigma*sigma*CV)\n",
    "\n",
    "XV, YV = np.meshgrid(t, sigma)\n",
    "ZV = Prob_V(XV, YV)\n",
    "\n",
    "fig = plt.figure()\n",
    "ax = plt.axes(projection='3d')\n",
    "ax.contour3D(XV, YV, ZV, 500) #cmap='binary')\n",
    "ax.set_xlabel('Time')\n",
    "ax.set_ylabel('Sigma')\n",
    "ax.set_zlabel('Probability')\n",
    "plt.show()\n",
    "\n",
    "##### 2b: CIR #####\n",
    "\n",
    "BC = (1-np.exp(-a*t))*lam/float(a) + b*(t-1/float(a)*(1-np.exp(-a*t)))\n",
    "CC = (rho/float(2*a*a*a))*np.exp(-2*a*t)*(b-2*lam+4*np.exp(3*a*t)*(b+ a*(b-lam)*t))+np.exp(2*a*t)*(2*lam + b*(2*a*t - 5))\n",
    "\n",
    "\n",
    "def Prob_C(t, sigma):\n",
    "    return np.exp(-BC + 0.5*sigma*sigma*CC)\n",
    "\n",
    "XC, YC = np.meshgrid(t, sigma)\n",
    "ZC = Prob_C(XC, YC)\n",
    "\n",
    "fig = plt.figure()\n",
    "ax = plt.axes(projection='3d')\n",
    "ax.contour3D(XC, YC, ZC, 500) #cmap='binary')\n",
    "ax.set_xlabel('Time')\n",
    "ax.set_ylabel('Sigma')\n",
    "ax.set_zlabel('Probability')\n",
    "plt.show()\n"
   ]
  },
  {
   "cell_type": "markdown",
   "metadata": {},
   "source": [
    "# Fig 3: Survival distribution function with respect to reference entities"
   ]
  },
  {
   "cell_type": "code",
   "execution_count": 6,
   "metadata": {
    "collapsed": true
   },
   "outputs": [],
   "source": [
    "#### Figure 3 ####\n",
    "###Define parameters\n",
    "\n",
    "a    =0.3   #spead of reversion\n",
    "b    =0.03  #Long term mean\n",
    "rho  =0.5   #Correlation of the entities\n",
    "lam0  =0.05  #Intensity default\n",
    "sigma=0.035 #Instanteneous volatility\n",
    "t    =0     #Intial time\n",
    "T    =5     #Time to expiry\n",
    "N    =40    #Number of entities\n",
    "\n",
    "s=np.arange(1,N+1,1)\n",
    "\n",
    "def JSPD(s):\n",
    "    K  = (T-t)-3/(2*a) + 2*np.exp(-a*(T-t))/a - np.exp(-2*a*(T-t))/2*a\n",
    "    Z  = ((b-lam0)*(1-np.exp(-a*(T-t))))/a - b*(T-t)\n",
    "    Pr = np.exp((sigma**2*rho*K*s**2)/(2*a**2) - (sigma**2*(rho-1)*K*s)/(2*a**2) + Z*s)\n",
    "    return Pr\n",
    "\n",
    "xlabel('No of entities')\n",
    "ylabel('Joint Survival Prob Distribution')\n",
    "plot(s, JSPD(s) )\n",
    "plt.show()"
   ]
  },
  {
   "cell_type": "markdown",
   "metadata": {},
   "source": [
    "# Table results: Pricing of n2D swaps"
   ]
  },
  {
   "cell_type": "code",
   "execution_count": 7,
   "metadata": {
    "collapsed": true
   },
   "outputs": [],
   "source": [
    "#####Default times are modelled using one-factor Gaussian copula (For Homogeneous portfolio)#####\n",
    "\n",
    "#Parameters definition:\n",
    "# N  = number of entities in the basket\n",
    "#lam = hazard rate\n",
    "# n  = rank of default in the basket, eg n=1 means first to default\n",
    "# T  = time to maturity of default swap\n",
    "#rho = correlation matrix between the entities\n",
    "# r  = deterministic risk-free interest rate \n",
    "# R  = recovery rate of the entities\n",
    "# M  = number of Monte Carlo simulations\n",
    "#dt  = frequency payment dates (in units of years)\n",
    "# m  = time step for the premium payments\n",
    "# mm = no of sub timesteps within each delta for integration\n",
    "\n",
    "\n",
    "def BDS(N, lam, n, T, rho, r, R, M, dt, mm):\n",
    "    \n",
    "    m = int(T/dt)\n",
    "    dt1 = dt/mm\n",
    "    \n",
    "    ########Simulation of default time via one-factor Gaussian copula###########\n",
    "    mu=np.zeros((N))\n",
    "    CM= np.ones((N,N))*rho + (1-rho)*np.eye(N) #covariance matrix\n",
    "    RV=np.random.multivariate_normal(mu, CM, M)\n",
    "    tau=-1/lam * (np.log(norm.cdf(RV,0,1)))\n",
    "    \n",
    "    ######## Calculating the expected value of default leg\n",
    "    DL=0\n",
    "    Tau = np.sort(tau,1)\n",
    "    Tau = Tau[:,n-1] \n",
    "    DL = 1/M*np.sum((1-R)*np.exp(-r *Tau)*(Tau <T))\n",
    "    \n",
    "    ######### Calulating the expected value of premium leg    \n",
    "    t = dt\n",
    "    PL = 0 \n",
    "    for i in range(1,m+1):\n",
    "        DB = np.exp(-r*t) #the discount bond at time t\n",
    "        SP = 1-np.sum(np.sum(tau<t, 1)>=n, 0)/np.size(tau, axis=0) # survival prob of nth default until each indexing period\n",
    "        PL=PL+ dt*DB*SP\n",
    "        t = t + T/m\n",
    "    \n",
    "    ######## Calculating the expected value of accrued premium\n",
    "    AP = 0\n",
    "    t=0\n",
    "    for i in range(1,m+1):\n",
    "        q=t\n",
    "        for j in range(1,mm+1):\n",
    "            PD = 1/M * np.sum((Tau > (q)) & (Tau <= (q + dt1))) #prob of nth default between j and j+1\n",
    "            q=q + dt1/2\n",
    "            DB1=np.exp(-r*q)  #the discount bond at time q\n",
    "            AP=AP + (q-t)*DB1*PD \n",
    "            \n",
    "    spread = 1/(PL + AP)*10000*DL\n",
    "    return spread\n",
    "\n",
    "print(BDS(10, 0.01, 1, 5, 0.3, 0.04,0.5, 10000, 0.25, 10))\n",
    "     "
   ]
  },
  {
   "cell_type": "code",
   "execution_count": null,
   "metadata": {
    "collapsed": true
   },
   "outputs": [],
   "source": []
  }
 ],
 "metadata": {
  "kernelspec": {
   "display_name": "Python 3",
   "language": "python",
   "name": "python3"
  },
  "language_info": {
   "codemirror_mode": {
    "name": "ipython",
    "version": 3
   },
   "file_extension": ".py",
   "mimetype": "text/x-python",
   "name": "python",
   "nbconvert_exporter": "python",
   "pygments_lexer": "ipython3",
   "version": "3.6.1"
  }
 },
 "nbformat": 4,
 "nbformat_minor": 2
}
